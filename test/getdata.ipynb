{
 "cells": [
  {
   "cell_type": "code",
   "execution_count": 4,
   "metadata": {},
   "outputs": [
    {
     "data": {
      "text/plain": [
       ".ErrorCode=0\n",
       ".Data=[Already connected!]"
      ]
     },
     "execution_count": 4,
     "metadata": {},
     "output_type": "execute_result"
    }
   ],
   "source": [
    "import pickle\n",
    "from WindPy import w\n",
    "w.start()"
   ]
  },
  {
   "cell_type": "code",
   "execution_count": 3,
   "metadata": {},
   "outputs": [],
   "source": [
    "test_wss = w.wss(\"000001.SZ,000002.SZ\", \"open,close,high,low\",\"tradeDate=20250228;priceAdj=U;cycle=D;\")\n",
    "with open('test_wss.pkl', 'wb') as f:\n",
    "    pickle.dump(test_wss, f)"
   ]
  },
  {
   "cell_type": "code",
   "execution_count": 7,
   "metadata": {},
   "outputs": [],
   "source": [
    "test_wss_without_option = w.wss(\"000001.SZ\", \"open,high,low\")\n",
    "with open('test_wss_without_option.pkl', 'wb') as f:\n",
    "    pickle.dump(test_wss_without_option, f)"
   ]
  },
  {
   "cell_type": "code",
   "execution_count": 2,
   "metadata": {},
   "outputs": [],
   "source": [
    "test_wsd = w.wsd(\"000001.SZ\", \"open,close\", \"2025-01-01\", \"2025-02-01\", \"TradingCalendar=SZSE;PriceAdj=F;\")"
   ]
  },
  {
   "cell_type": "code",
   "execution_count": 5,
   "metadata": {},
   "outputs": [],
   "source": [
    "with open('test_wsd.pkl', 'wb') as f:\n",
    "    pickle.dump(test_wsd, f)"
   ]
  },
  {
   "cell_type": "code",
   "execution_count": 12,
   "metadata": {},
   "outputs": [
    {
     "name": "stdout",
     "output_type": "stream",
     "text": [
      ".ErrorCode=0\n",
      ".Codes=[]\n",
      ".Fields=[]\n",
      ".Times=[20250102,20250103,20250106,20250107,20250108,20250109,20250110,20250113,20250114,20250115,...]\n",
      ".Data=[[2025-01-02 00:00:00,2025-01-03 00:00:00,2025-01-06 00:00:00,2025-01-07 00:00:00,2025-01-08 00:00:00,2025-01-09 00:00:00,2025-01-10 00:00:00,2025-01-13 00:00:00,2025-01-14 00:00:00,2025-01-15 00:00:00,...]]\n"
     ]
    }
   ],
   "source": [
    "test_tdays=w.tdays(\"2025-01-01\", \"2025-02-01\", \"Period=D;TradingCalendar=SZSE\")\n",
    "print(test_tdays)\n",
    "with open('test_tdays.pkl', 'wb') as f:\n",
    "    pickle.dump(test_tdays, f)"
   ]
  },
  {
   "cell_type": "code",
   "execution_count": 6,
   "metadata": {},
   "outputs": [
    {
     "name": "stdout",
     "output_type": "stream",
     "text": [
      ".ErrorCode=0\n",
      ".Codes=[]\n",
      ".Fields=[]\n",
      ".Times=[20250113]\n",
      ".Data=[[2025-01-13 00:00:00]]\n"
     ]
    }
   ],
   "source": [
    "test_tdaysoffset=w.tdaysoffset(-10, \"2025-02-01\", \"Period=D;TradingCalendar=SZSE\")\n",
    "print(test_tdaysoffset)\n",
    "with open('test_tdaysoffset.pkl', 'wb') as f:\n",
    "    pickle.dump(test_tdaysoffset, f)"
   ]
  },
  {
   "cell_type": "code",
   "execution_count": 14,
   "metadata": {},
   "outputs": [
    {
     "name": "stdout",
     "output_type": "stream",
     "text": [
      ".ErrorCode=0\n",
      ".Codes=[]\n",
      ".Fields=[]\n",
      ".Times=[20250302]\n",
      ".Data=[[18]]\n"
     ]
    }
   ],
   "source": [
    "test_tdayscount=w.tdayscount(\"2025-01-01\", \"2025-02-01\", \"TradingCalendar=SZSE\")\n",
    "print(test_tdayscount)\n",
    "with open('test_tdayscount.pkl', 'wb') as f:\n",
    "    pickle.dump(test_tdayscount, f)\n"
   ]
  },
  {
   "cell_type": "code",
   "execution_count": 16,
   "metadata": {},
   "outputs": [
    {
     "name": "stdout",
     "output_type": "stream",
     "text": [
      ".ErrorCode=0\n",
      ".Codes=[1,2,3,4,5,6,7,8,9,10,...]\n",
      ".Fields=[date,wind_code,sec_name]\n",
      ".Times=[20250302]\n",
      ".Data=[[2025-01-01 00:00:00,2025-01-01 00:00:00,2025-01-01 00:00:00,2025-01-01 00:00:00,2025-01-01 00:00:00,2025-01-01 00:00:00,2025-01-01 00:00:00,2025-01-01 00:00:00,2025-01-01 00:00:00,2025-01-01 00:00:00,...],[000001.SZ,000002.SZ,000004.SZ,000006.SZ,000007.SZ,000008.SZ,000009.SZ,000010.SZ,000011.SZ,000012.SZ,...],[平安银行,万科A,国华网安,深振业A,全新好,神州高铁,中国宝安,美丽生态,深物业A,南玻A,...]]\n"
     ]
    }
   ],
   "source": [
    "test_wset=w.wset(\"sectorconstituent\",\"date=2025-01-01;sectorid=1000052364000000;field=date,wind_code,sec_name\")\n",
    "print(test_wset)\n",
    "with open('test_wset.pkl', 'wb') as f:\n",
    "    pickle.dump(test_wset, f)\n",
    "\n",
    "\n",
    "\n"
   ]
  }
 ],
 "metadata": {
  "kernelspec": {
   "display_name": "Python 3",
   "language": "python",
   "name": "python3"
  },
  "language_info": {
   "codemirror_mode": {
    "name": "ipython",
    "version": 3
   },
   "file_extension": ".py",
   "mimetype": "text/x-python",
   "name": "python",
   "nbconvert_exporter": "python",
   "pygments_lexer": "ipython3",
   "version": "3.13.1"
  }
 },
 "nbformat": 4,
 "nbformat_minor": 2
}
